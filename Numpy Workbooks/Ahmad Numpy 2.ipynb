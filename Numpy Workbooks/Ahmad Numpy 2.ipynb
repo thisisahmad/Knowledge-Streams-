{
 "cells": [
  {
   "cell_type": "code",
   "execution_count": 87,
   "metadata": {
    "id": "YAvC8k1FKC6i"
   },
   "outputs": [],
   "source": [
    "import numpy as np"
   ]
  },
  {
   "cell_type": "markdown",
   "metadata": {
    "id": "z-ttfWOCWYAD"
   },
   "source": [
    "### Basic Array Creation"
   ]
  },
  {
   "cell_type": "markdown",
   "metadata": {
    "id": "ZksDKlwjHvFV"
   },
   "source": [
    "# Creatation of List\n",
    "How to create Lists in python?"
   ]
  },
  {
   "cell_type": "code",
   "execution_count": 98,
   "metadata": {
    "id": "mCgQsxXkF3nb"
   },
   "outputs": [
    {
     "data": {
      "text/plain": [
       "['ahmad', 'qasim', 'mujeeb']"
      ]
     },
     "execution_count": 98,
     "metadata": {},
     "output_type": "execute_result"
    }
   ],
   "source": [
    "a = [\"ahmad\", \"qasim\", \"mujeeb\"]\n",
    "a"
   ]
  },
  {
   "cell_type": "markdown",
   "metadata": {
    "id": "EUmihvpDIAzW"
   },
   "source": [
    "# Type\n",
    "Accuire type of list in python."
   ]
  },
  {
   "cell_type": "code",
   "execution_count": 99,
   "metadata": {
    "id": "Aw_RtHvuRkDi"
   },
   "outputs": [
    {
     "data": {
      "text/plain": [
       "list"
      ]
     },
     "execution_count": 99,
     "metadata": {},
     "output_type": "execute_result"
    }
   ],
   "source": [
    "type(a)"
   ]
  },
  {
   "cell_type": "markdown",
   "metadata": {
    "id": "M2TOiuioIc6M"
   },
   "source": [
    "# Creatation of Arrays\n",
    "1.Simple array creation\n",
    "\n",
    "2.Checking array \"TYPE\"\n",
    "\n",
    "3.Numeric \"TYPE\" of array elements\n",
    "\n",
    "4.Array dim\n",
    "\n",
    "5.Array Shape\n",
    "\n",
    "6.Bytes per element\n",
    "\n",
    "7.BYTES OF MEMORY USED, How many bytes for one array element\n",
    "\n",
    "8.Total bytes in an Array"
   ]
  },
  {
   "cell_type": "code",
   "execution_count": 100,
   "metadata": {
    "id": "uy_hPIW4A4uM"
   },
   "outputs": [
    {
     "name": "stdout",
     "output_type": "stream",
     "text": [
      "[1 2 3 4 5 6]\n",
      "<class 'numpy.ndarray'>\n",
      "int32\n",
      "1\n",
      "(6,)\n",
      "4\n",
      "4\n",
      "24\n"
     ]
    }
   ],
   "source": [
    "#1 \n",
    "arr = np.array([1,2,3,4,5,6])\n",
    "print(arr)\n",
    "#2.\n",
    "print(type(arr))\n",
    "#3.\n",
    "print(arr.dtype)\n",
    "#4.\n",
    "print(arr.ndim)\n",
    "#5.\n",
    "print(arr.shape)\n",
    "#6. \n",
    "print(arr.itemsize)\n",
    "#7. \n",
    "print(arr.itemsize)\n",
    "#8. \n",
    "print(arr.nbytes)"
   ]
  },
  {
   "cell_type": "code",
   "execution_count": 101,
   "metadata": {
    "id": "tf9pmYpYLuEu"
   },
   "outputs": [
    {
     "data": {
      "text/plain": [
       "array([1.2, 1.3, 4.6, 7. , 8. ])"
      ]
     },
     "execution_count": 101,
     "metadata": {},
     "output_type": "execute_result"
    }
   ],
   "source": [
    "#decimal Array\n",
    "decArr=np.array([1.2,1.3,4.6,7,8])\n",
    "decArr"
   ]
  },
  {
   "cell_type": "markdown",
   "metadata": {
    "id": "czi-ntWzFJ0M"
   },
   "source": [
    "9.Try to assign a float into an int32\n",
    "\n",
    "10.Use .fill function # fill has the same behavior\n"
   ]
  },
  {
   "cell_type": "code",
   "execution_count": 102,
   "metadata": {
    "id": "5r2iCLhHFq_-"
   },
   "outputs": [
    {
     "name": "stdout",
     "output_type": "stream",
     "text": [
      "[1.2 1.3 5.  7.  8. ]\n",
      "[5. 5. 5. 5. 5.]\n"
     ]
    }
   ],
   "source": [
    "#9.\n",
    "decArr[2]=5\n",
    "print(decArr)\n",
    "\n",
    "\n",
    "#10.\n",
    "decArr.fill(5)\n",
    "print(decArr)\n"
   ]
  },
  {
   "cell_type": "markdown",
   "metadata": {
    "id": "UK4-Grt0F8_k"
   },
   "source": [
    "11.Add two  arrays\n",
    "\n",
    "12.Multiple both arrays\n",
    "\n",
    "13.Use ** operator in array operation\n",
    "\n",
    "14.Create array from 0.0 to 11.0\n",
    "\n",
    "15.Multiply entire array with a scalar value\n",
    " c = (2.0 * np.pi)\n",
    "\n",
    "16.Use np.arrange function to create an array with step of 0.5 from 1.0 to 3.0"
   ]
  },
  {
   "cell_type": "code",
   "execution_count": 103,
   "metadata": {
    "id": "1cRgGYTdGayU"
   },
   "outputs": [
    {
     "name": "stdout",
     "output_type": "stream",
     "text": [
      "[ 8 10 12  4  6]\n",
      "[ 7 16 27  0  5]\n",
      "[    1   256 19683     1     5]\n",
      "[ 0.  1.  2.  3.  4.  5.  6.  7.  8.  9. 10. 11.]\n",
      "[ 0.          6.28318531 12.56637061 18.84955592 25.13274123 31.41592654\n",
      " 37.69911184 43.98229715 50.26548246 56.54866776 62.83185307 69.11503838]\n",
      "[1.  1.5 2.  2.5]\n"
     ]
    }
   ],
   "source": [
    "one =np.array([1,2,3,4,5])\n",
    "two =np.array([7,8,9,0,1])\n",
    "\n",
    "#11.\n",
    "print(one + two)\n",
    "\n",
    "#12.\n",
    "print(one * two)\n",
    "\n",
    "#13.\n",
    "print(one ** two)\n",
    "\n",
    "#14.\n",
    "x=np.arange(12.0)\n",
    "print(x)\n",
    "\n",
    "c = (2.0 * np.pi)\n",
    "x*=c\n",
    "print(x)\n",
    "\n",
    "#16. \n",
    "stepArr= np.arange(1.0,3.0,0.5)\n",
    "print(stepArr)"
   ]
  },
  {
   "cell_type": "markdown",
   "metadata": {
    "id": "60fA9aHmI0g_"
   },
   "source": [
    "# Slicing\n",
    "var[lower:upper:step]\n",
    "• Extracts a portion of a sequence by specifying a lower and upper bound.\n",
    "\n",
    "• The lower-bound element is included, but the upper-bound element is not included.\n",
    "\n",
    "• Mathematically: [lower, upper). The step value specifies the stride between elements.\n",
    "\n",
    "1. Etract array indices from 1 to 3:\n",
    "2. Use negative indices as well\n",
    "3. Omitted boundaries are assumed to be the beginning (or end) of the array grab first three elements\n",
    "4. Grab last two elements\n",
    "5. Grab every other element\n",
    "6. slicing the last two elements returns the data there\n",
    "7. Can we insert an iterable of length two? or a scalar value\n",
    "8.Arrays created by slicing share data with the originating array. Changing values in a slice also changes the original array.\n",
    "For example create a slice containing two elements of a changing b changed a! Have an experiment\n",
    "9. if an array a = [[0, 1, 2, 3, 4],[1, 2, 3, 4, 5]] extract values from row 3 to onward and from col 0, 2 and 5\n",
    "10. Perform some masking on a = np.arange(0,36).reshape(6,6)\n",
    "with mask = np.array([1, 0, 1, 0, 0, 1])\n"
   ]
  },
  {
   "cell_type": "code",
   "execution_count": 104,
   "metadata": {
    "id": "CVqexfEBMB-w"
   },
   "outputs": [
    {
     "name": "stdout",
     "output_type": "stream",
     "text": [
      "[2 3 4]\n",
      "[5 6 7]\n",
      "[1 2 3]\n",
      "[7 8]\n",
      "[1 3 5 7]\n",
      "[1 2 3 4 5 6]\n",
      "[1 2 3 4 5 6 7 8]\n",
      "[5 6 3 4 5 6 7 8]\n",
      "[5 6 3 8 8 6 7 8]\n",
      "[]\n"
     ]
    }
   ],
   "source": [
    "x = np.array([1,2,3,4,5,6,7,8])\n",
    "#1.\n",
    "print(x[1:4])\n",
    "\n",
    "#2. \n",
    "print(x[-4:-1])\n",
    "\n",
    "#3. \n",
    "print(x[:3])\n",
    "\n",
    "#4.\n",
    "print(x[-2:])\n",
    "\n",
    "#5.\n",
    "print(x[::2])\n",
    "\n",
    "#6. \n",
    "print(x[:-2])\n",
    "\n",
    "#7. \n",
    "print(x)\n",
    "#Iterable of 2\n",
    "x[0:2]=[5,6]\n",
    "print(x)\n",
    "#Scalar Value\n",
    "x[3:5]=8\n",
    "print(x)\n",
    "\n",
    "\n",
    "#8. \n",
    "n = np.array([[0, 1, 2, 3, 4],[1, 2, 3, 4, 5]] )\n",
    "print(n[2:,0::2])\n"
   ]
  },
  {
   "cell_type": "markdown",
   "metadata": {
    "id": "WSHrRcoQN0Mu"
   },
   "source": [
    "# Array Functions\n",
    "1.Arange([start,] stop[, step],dtype=None)\n",
    "Nearly identical to Python’s range(). Creates an array of values in the range [start,stop) with the specified step value. Allows non-integer values for start, stop, and step. Default dtype is derived from the start, stop, and step values. create an array with arange.\n",
    "\n",
    "2.Create arrays with ONES, ZEROS, shape is a number or sequence specifying the dimensions of the array. If dtype is not specified, it defaults to float64.\n",
    "\n",
    "3.Generate an n by n identity array. The default dtype is float64.\n",
    "\n",
    "4.use empty, full, and fill, max, min, std, mean, var, argmax, linspace\n",
    "\n",
    "5.\n",
    "\n",
    "  Rule 1:\n",
    "  Operations between multiple array objects are first checked for proper shape match.\n",
    "\n",
    "  Rule 2:\n",
    "  Mathematical operators (+ - * / exp, log, ...) apply element by element, on the values.\n",
    "\n",
    "  Rule 3:\n",
    "  Reduction operations (mean, std, skew, kurt, sum, prod, ...) apply to the whole array, unless an axis is specified.\n",
    "\n",
    "  Rule 4:\n",
    "  Missing values propagate unless explicitly ignored (nanmean, nansum, ...).\n",
    "\n",
    "6.\n",
    "Create the array below with\n",
    "                  a = np.arange(-15, 15).reshape(5, 6) ** 2\n",
    "1. The maximum of each row\n",
    "2. The mean of each column\n",
    "3. The position of the overall minimum\n"
   ]
  },
  {
   "cell_type": "code",
   "execution_count": 105,
   "metadata": {
    "id": "-JEUK-2BU_L2"
   },
   "outputs": [
    {
     "name": "stdout",
     "output_type": "stream",
     "text": [
      "6. array =\n",
      "  [[225 196 169 144 121 100]\n",
      " [ 81  64  49  36  25  16]\n",
      " [  9   4   1   0   1   4]\n",
      " [  9  16  25  36  49  64]\n",
      " [ 81 100 121 144 169 196]]\n"
     ]
    }
   ],
   "source": [
    "#6\n",
    "a = np.arange(-15, 15).reshape(5, 6) ** 2\n",
    "print(\"6. array =\\n \",a)"
   ]
  },
  {
   "cell_type": "markdown",
   "metadata": {
    "id": "uO-B0OXYWl7A"
   },
   "source": [
    "### Zip Operations on Numpy Arrays\n",
    "Use a zip function on two arrys.\n",
    "\n",
    "Create another array which would be the sum of corresponding elements of two arrays using for loop."
   ]
  },
  {
   "cell_type": "code",
   "execution_count": 96,
   "metadata": {
    "id": "QWAhbiOXHEc9"
   },
   "outputs": [],
   "source": [
    "a = [1, 2, 3, 4]\n",
    "b = [2, 3, 4, 5]\n",
    "\n",
    "# Answer Here"
   ]
  },
  {
   "cell_type": "code",
   "execution_count": 97,
   "metadata": {
    "id": "ePXox_XHMQTr"
   },
   "outputs": [],
   "source": [
    "#For loop to add corresponding elements in two lists\n",
    "\n",
    "# Answer Here"
   ]
  },
  {
   "cell_type": "code",
   "execution_count": null,
   "metadata": {},
   "outputs": [],
   "source": []
  },
  {
   "cell_type": "code",
   "execution_count": null,
   "metadata": {},
   "outputs": [],
   "source": []
  }
 ],
 "metadata": {
  "colab": {
   "provenance": []
  },
  "kernelspec": {
   "display_name": "Python 3 (ipykernel)",
   "language": "python",
   "name": "python3"
  },
  "language_info": {
   "codemirror_mode": {
    "name": "ipython",
    "version": 3
   },
   "file_extension": ".py",
   "mimetype": "text/x-python",
   "name": "python",
   "nbconvert_exporter": "python",
   "pygments_lexer": "ipython3",
   "version": "3.12.4"
  }
 },
 "nbformat": 4,
 "nbformat_minor": 4
}
