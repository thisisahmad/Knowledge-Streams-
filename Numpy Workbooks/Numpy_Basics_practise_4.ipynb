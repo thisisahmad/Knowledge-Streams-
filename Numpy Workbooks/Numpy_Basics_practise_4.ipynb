{
 "cells": [
  {
   "cell_type": "code",
   "execution_count": 5,
   "metadata": {
    "id": "qQxFQvrEEKqm"
   },
   "outputs": [],
   "source": [
    "import numpy as np"
   ]
  },
  {
   "cell_type": "code",
   "execution_count": null,
   "metadata": {
    "colab": {
     "base_uri": "https://localhost:8080/"
    },
    "id": "n_ncJAFDEbs1",
    "outputId": "a09be9aa-5efa-45c6-b212-e9ebec9db71a"
   },
   "outputs": [
    {
     "name": "stdout",
     "output_type": "stream",
     "text": [
      "Mounted at /content/drive\n"
     ]
    }
   ],
   "source": [
    "from google.colab import drive\n",
    "drive.mount('/content/drive')"
   ]
  },
  {
   "cell_type": "markdown",
   "metadata": {
    "id": "5dL78wl-ElhS"
   },
   "source": [
    "# Q.1\n",
    "**Statement:** You are working with a retail store that needs to manage its inventory efficiently. They have provided you with a dataset containing information about products, their quantities in stock, and the number of units sold daily for the past week. Total number of products are 5. Your task is to calculate the following:\n",
    "\n",
    "\n",
    "\n",
    "1.The total sales for each product over the past week.\n",
    "\n",
    "2.The average daily sales for each product.\n",
    "\n",
    "3.The product with the highest sales.\n",
    "\n",
    "4.The product with the lowest sales.\n",
    "\n",
    "5.The total sales for all products combined.\n",
    "\n",
    "You are required to use NumPy for efficient data processing and calculations. Write code to solve this inventory management problem."
   ]
  },
  {
   "cell_type": "code",
   "execution_count": 6,
   "metadata": {
    "colab": {
     "base_uri": "https://localhost:8080/"
    },
    "id": "DxtXsLXRVpdW",
    "outputId": "f0dd742c-203f-4616-ec82-0ccad0533f03"
   },
   "outputs": [
    {
     "data": {
      "text/plain": [
       "array([175,  72, 205, 204, 210])"
      ]
     },
     "execution_count": 6,
     "metadata": {},
     "output_type": "execute_result"
    }
   ],
   "source": [
    "import numpy as np\n",
    "\n",
    "# Sample data (replace with your actual data)\n",
    "product_names = np.array(['Product A', 'Product B', 'Product C', 'Product D', 'Product E'])\n",
    "quantities_in_stock = np.array([100, 150, 200, 250, 50])\n",
    "\n",
    "daily_sales_data = np.array([[10, 15, 20, 25, 30, 35, 40],\n",
    "                             [5, 7, 8, 10, 12, 14, 16],\n",
    "                             [15, 20, 25, 30, 35, 40, 40],\n",
    "                             [12, 25, 20, 40, 20, 32, 55],\n",
    "                             [15, 20, 25, 30, 35, 40, 45]])\n",
    "\n",
    "# Calculate total sales revenue for each product over the past week\n",
    "b=np.sum(daily_sales_data, axis=1)\n",
    "b\n",
    "\n",
    "# Calculate the total sales revenue for all products combined\n"
   ]
  },
  {
   "cell_type": "code",
   "execution_count": 3,
   "metadata": {
    "colab": {
     "base_uri": "https://localhost:8080/"
    },
    "id": "T4UeofIOklHI",
    "outputId": "18dd5eaa-dcb0-4c84-f8a0-578347c37a1a"
   },
   "outputs": [
    {
     "data": {
      "text/plain": [
       "array([25.        , 10.28571429, 29.28571429, 29.14285714, 30.        ])"
      ]
     },
     "execution_count": 3,
     "metadata": {},
     "output_type": "execute_result"
    }
   ],
   "source": [
    "# Calculate average daily sales for each product\n",
    "np.mean(daily_sales_data, axis=1)"
   ]
  },
  {
   "cell_type": "code",
   "execution_count": 7,
   "metadata": {
    "colab": {
     "base_uri": "https://localhost:8080/"
    },
    "id": "pcXc_zcTlEsq",
    "outputId": "2ffb67fe-519c-4978-8f3b-f9e3703b8a32"
   },
   "outputs": [
    {
     "data": {
      "text/plain": [
       "210"
      ]
     },
     "execution_count": 7,
     "metadata": {},
     "output_type": "execute_result"
    }
   ],
   "source": [
    "# Find the product with the highest and lowest sales\n",
    "#Highest Sale\n",
    "np.max(b)\n"
   ]
  },
  {
   "cell_type": "code",
   "execution_count": 8,
   "metadata": {
    "colab": {
     "base_uri": "https://localhost:8080/"
    },
    "id": "EVGmKb50mFpx",
    "outputId": "bea07895-8abc-461b-8014-6d87658fc4ab"
   },
   "outputs": [
    {
     "data": {
      "text/plain": [
       "72"
      ]
     },
     "execution_count": 8,
     "metadata": {},
     "output_type": "execute_result"
    }
   ],
   "source": [
    "#Lowest Sale\n",
    "np.min(b)\n"
   ]
  },
  {
   "cell_type": "code",
   "execution_count": 9,
   "metadata": {
    "colab": {
     "base_uri": "https://localhost:8080/"
    },
    "id": "crp1Ly2DmT9s",
    "outputId": "bef5735b-e8f2-4fa2-aea8-a1af069bfb0d"
   },
   "outputs": [
    {
     "data": {
      "text/plain": [
       "866"
      ]
     },
     "execution_count": 9,
     "metadata": {},
     "output_type": "execute_result"
    }
   ],
   "source": [
    "# Calculate the total sales revenue for all products combined\n",
    "np.sum(b)\n"
   ]
  },
  {
   "cell_type": "markdown",
   "metadata": {
    "id": "ICk1qoQHVwDc"
   },
   "source": [
    "# Q.2\n",
    "**Statement:** Statement: You are working with a manufacturing plant that produces various components. They have provided you with data on the production rates of five different machines over the past month. Your task is to analyze the performance of these machines by calculating the following metrics:\n",
    "\n",
    "1.The total production output for each machine over the past month.\n",
    "\n",
    "2.The average daily production rate for each machine.\n",
    "\n",
    "3.The machine with the highest total production output.\n",
    "\n",
    "4.The machine with the lowest total production output.\n",
    "\n",
    "The overall production efficiency of the plant, which is defined as the ratio of the total production output to the total number of hours worked, and working hour for each day is 2 hours."
   ]
  },
  {
   "cell_type": "code",
   "execution_count": 18,
   "metadata": {
    "colab": {
     "base_uri": "https://localhost:8080/"
    },
    "id": "lIu6pfmgbUQd",
    "outputId": "b3b8b6cb-11f1-419c-f85c-f517431d7280"
   },
   "outputs": [
    {
     "data": {
      "text/plain": [
       "array(['Machine A', 'Machine B', 'Machine C', 'Machine D', 'Machine E'],\n",
       "      dtype='<U9')"
      ]
     },
     "execution_count": 18,
     "metadata": {},
     "output_type": "execute_result"
    }
   ],
   "source": [
    "\n",
    "\n",
    "# Sample data (replace with your actual data)\n",
    "m= np.array(['Machine A', 'Machine B', 'Machine C', 'Machine D', 'Machine E'])\n",
    "m\n",
    "\n",
    "\n",
    "# Calculate the overall production efficiency of the plant\n",
    "\n"
   ]
  },
  {
   "cell_type": "code",
   "execution_count": 19,
   "metadata": {
    "colab": {
     "base_uri": "https://localhost:8080/"
    },
    "id": "4Lo2ICykqVsT",
    "outputId": "d10d4b49-ca7a-4a72-efe8-153ee93270c4"
   },
   "outputs": [
    {
     "data": {
      "text/plain": [
       "array([[191, 197, 192, 169, 148, 133, 182, 183, 173, 199, 124, 119, 168,\n",
       "        150, 188, 171, 197, 192, 118, 178, 196, 187, 120, 114, 156, 195,\n",
       "        184, 105, 151, 103],\n",
       "       [168, 133, 195, 114, 101, 153, 183, 181, 141, 114, 147, 162, 127,\n",
       "        162, 159, 191, 174, 147, 107, 157, 175, 108, 168, 108, 123, 129,\n",
       "        101, 163, 191, 181],\n",
       "       [153, 137, 144, 128, 181, 139, 125, 118, 119, 122, 141, 131, 129,\n",
       "        199, 133, 105, 168, 106, 168, 120, 171, 162, 162, 187, 108, 186,\n",
       "        159, 106, 199, 145],\n",
       "       [103, 119, 195, 110, 105, 129, 189, 126, 183, 145, 145, 120, 160,\n",
       "        101, 156, 120, 149, 133, 132, 117, 153, 169, 194, 190, 115, 102,\n",
       "        159, 145, 115, 178],\n",
       "       [134, 115, 167, 135, 170, 138, 124, 158, 110, 190, 124, 171, 156,\n",
       "        151, 151, 193, 156, 169, 156, 195, 103, 181, 188, 137, 173, 119,\n",
       "        154, 127, 164, 139]])"
      ]
     },
     "execution_count": 19,
     "metadata": {},
     "output_type": "execute_result"
    }
   ],
   "source": [
    "# Generate random production rates between 100 and 200 for 5 machines and 30 days\n",
    "p= np.random.randint(100, 200, size=(5, 30))\n",
    "p\n"
   ]
  },
  {
   "cell_type": "code",
   "execution_count": 20,
   "metadata": {
    "colab": {
     "base_uri": "https://localhost:8080/"
    },
    "id": "ZWlAcZSAqaKt",
    "outputId": "f9a17f30-0d83-44af-e8c7-f7e098a6bfc4"
   },
   "outputs": [
    {
     "data": {
      "text/plain": [
       "array([4883, 4463, 4351, 4257, 4548])"
      ]
     },
     "execution_count": 20,
     "metadata": {},
     "output_type": "execute_result"
    }
   ],
   "source": [
    "\n",
    "# Calculate total production output for each machine over the past month\n",
    "np.sum(p, axis=1)\n"
   ]
  },
  {
   "cell_type": "code",
   "execution_count": 21,
   "metadata": {
    "colab": {
     "base_uri": "https://localhost:8080/"
    },
    "id": "0TB1p9mIqh_y",
    "outputId": "089adf00-f245-4a2c-b749-78b1f7accdc0"
   },
   "outputs": [
    {
     "data": {
      "text/plain": [
       "array([149.8, 140.2, 178.6, 131.2, 141. , 138.4, 160.6, 153.2, 145.2,\n",
       "       154. , 136.2, 140.6, 148. , 152.6, 157.4, 156. , 168.8, 149.4,\n",
       "       136.2, 153.4, 159.6, 161.4, 166.4, 147.2, 135. , 146.2, 151.4,\n",
       "       129.2, 164. , 149.2])"
      ]
     },
     "execution_count": 21,
     "metadata": {},
     "output_type": "execute_result"
    }
   ],
   "source": [
    "# Calculate average daily production rate for each machine\n",
    "np.mean(p, axis=0)"
   ]
  },
  {
   "cell_type": "code",
   "execution_count": 22,
   "metadata": {
    "colab": {
     "base_uri": "https://localhost:8080/"
    },
    "id": "cFd9_ukXqoD3",
    "outputId": "11389f1d-97bd-4f0b-af1d-689c01231a3e"
   },
   "outputs": [
    {
     "data": {
      "text/plain": [
       "199"
      ]
     },
     "execution_count": 22,
     "metadata": {},
     "output_type": "execute_result"
    }
   ],
   "source": [
    "\n",
    "# Find the machine with the highest and lowest total production output\n",
    "#Highest Production\n",
    "np.max(p)\n"
   ]
  },
  {
   "cell_type": "code",
   "execution_count": 23,
   "metadata": {
    "colab": {
     "base_uri": "https://localhost:8080/"
    },
    "id": "_3173Ui1rOwv",
    "outputId": "b8e3c558-97d9-4800-dee3-a889dc19f85d"
   },
   "outputs": [
    {
     "data": {
      "text/plain": [
       "101"
      ]
     },
     "execution_count": 23,
     "metadata": {},
     "output_type": "execute_result"
    }
   ],
   "source": [
    "#Lowest production\n",
    "np.min(p)"
   ]
  },
  {
   "cell_type": "code",
   "execution_count": 24,
   "metadata": {
    "colab": {
     "base_uri": "https://localhost:8080/"
    },
    "id": "YzBo7yeArboP",
    "outputId": "cd5ba7b6-83c6-4a8b-ad16-544be0a05bcc"
   },
   "outputs": [
    {
     "data": {
      "text/plain": [
       "375.03333333333336"
      ]
     },
     "execution_count": 24,
     "metadata": {},
     "output_type": "execute_result"
    }
   ],
   "source": [
    "# Calculate the overall production efficiency of the plant\n",
    "overall_efficiency = np.sum(p) / (2 * 30)\n",
    "overall_efficiency"
   ]
  },
  {
   "cell_type": "markdown",
   "metadata": {
    "id": "Ayc9TG-vff7A"
   },
   "source": [
    "# Q3:\n",
    "\n",
    "**Statment**\n",
    "You are working on a project that involves simulating sensor data for a network of 10 sensors over a period of 15 days. Each sensor collects data once per hour. Your task is to generate a NumPy array named sensor_data to represent this simulated sensor data and perform following statistical analysis on it.\n",
    "\n",
    "Populate the sensor_data array with random floating-point values between 0.0 and 100.0\n",
    "The generated values should represent sensor readings collected once per hour.\n",
    "\n",
    "After generating the sensor_data array, perform the following statistical **calculations:**\n",
    "\n",
    "1.Calculate the mean (average) sensor reading for each sensor over the 15 days.\n",
    "\n",
    "2.Calculate the standard deviation of sensor readings for each sensor.\n",
    "\n",
    "3.Calculate the maximum sensor reading for each sensor.\n",
    "\n",
    "4.Calculate the minimum sensor reading for each sensor.\n",
    "\n",
    "5.Calculate the overall mean sensor reading for all sensors and all days.\n",
    "\n",
    "6.Calculate the overall standard deviation of sensor readings for all sensors an"
   ]
  },
  {
   "cell_type": "code",
   "execution_count": 43,
   "metadata": {
    "colab": {
     "base_uri": "https://localhost:8080/"
    },
    "id": "TWSK9GA1gfz0",
    "outputId": "18877a41-c9bb-4b68-a13f-c6ad6f6c132a"
   },
   "outputs": [
    {
     "data": {
      "text/plain": [
       "array([50.15555556, 47.71944444, 51.23055556, 51.52777778, 48.08888889,\n",
       "       49.45      , 50.02777778, 49.60277778, 49.96666667, 45.09444444])"
      ]
     },
     "execution_count": 43,
     "metadata": {},
     "output_type": "execute_result"
    }
   ],
   "source": [
    "import numpy as np\n",
    "import sys\n",
    "\n",
    "\n",
    "# Data Generation Requirements\n",
    "num_sensors = 10\n",
    "num_days = 15\n",
    "hours_per_day = 24\n",
    "shape = (num_sensors, num_days * hours_per_day)\n",
    "\n",
    "# Generate Sensor Data\n",
    "#s= np.random.uniform(0.0, 100.0, shape)\n",
    "#s\n",
    "#np.set_printoptions(threshold=sys.maxsize)\n",
    "#s\n",
    "arr = np.random.randint(100, size=(10,360))\n",
    "j = arr.mean(axis=1)\n",
    "j"
   ]
  },
  {
   "cell_type": "code",
   "execution_count": 21,
   "metadata": {
    "id": "RAOFwi1AxMDk"
   },
   "outputs": [
    {
     "data": {
      "text/plain": [
       "array([49.875     , 49.725     , 48.53333333, 49.43333333, 50.49444444,\n",
       "       49.40277778, 49.73055556, 49.69166667, 51.25277778, 52.01944444])"
      ]
     },
     "execution_count": 21,
     "metadata": {},
     "output_type": "execute_result"
    }
   ],
   "source": [
    "#Calculate the mean (average) sensor reading for each sensor over the 15 day\n",
    "\n",
    "arr = np.random.randint(100, size=(10,360))\n",
    "d = np.mean(arr, axis=1)\n",
    "d"
   ]
  },
  {
   "cell_type": "code",
   "execution_count": 23,
   "metadata": {
    "id": "ac3LR7C6xYMY"
   },
   "outputs": [
    {
     "data": {
      "text/plain": [
       "array([29.71902566, 28.34488858, 28.68950641, 29.11463931, 28.40930935,\n",
       "       28.20946439, 29.24393878, 28.91216464, 28.84739528, 28.02780682])"
      ]
     },
     "execution_count": 23,
     "metadata": {},
     "output_type": "execute_result"
    }
   ],
   "source": [
    "#Calculate the standard deviation of sensor readings for each sensor.\n",
    "s = np.std(arr, axis=1)\n",
    "s"
   ]
  },
  {
   "cell_type": "code",
   "execution_count": null,
   "metadata": {},
   "outputs": [],
   "source": [
    "#.Calculate the maximum sensor reading for each sensor.\n"
   ]
  },
  {
   "cell_type": "markdown",
   "metadata": {
    "id": "IShr0NSyhcEc"
   },
   "source": [
    "# Q4:\n",
    "\n",
    "**Statement**: You are tasked with analyzing the exam scores of 30 students in a class over a period of 10 exams. The exam scores are represented as a NumPy, where each row corresponds to a different student, and each column represents their score in a specific exam.\n",
    "\n",
    "Populate the exam_scores array with random integer values between 50 and 100 to simulate students' exam performance.\n",
    "\n",
    "After generating the exam_scores array, perform the following tasks:\n",
    "\n",
    "1.Calculate the average score for each student over the 10 exams.\n",
    "\n",
    "2.Calculate the standard deviation of scores for each student.\n",
    "\n",
    "3.Identify students who have consistently performed well, defined as those whose average score is above 85.\n",
    "\n",
    "4.Identify students who may need additional support, defined as those whose average score is below 50.\n",
    "\n",
    "Write code to create and populate the exam_scores array and then perform the specified statistical analysis and performance evaluation tasks on the data.\n",
    "\n",
    "\n",
    "\n"
   ]
  },
  {
   "cell_type": "code",
   "execution_count": null,
   "metadata": {
    "id": "F3p_SMeoiT2o"
   },
   "outputs": [],
   "source": [
    "import numpy as np\n",
    "\n",
    "# Create the exam_scores array (30 students, 10 exams)\n",
    "num_students = 30\n",
    "num_exams = 10\n",
    "\n",
    "# Populate the exam_scores array with random scores between 50 and 100\n",
    "\n",
    "# 1. Calculate the average score for each student over the 10 exams\n",
    "\n",
    "# 2. Calculate the standard deviation of scores for each student\n",
    "\n",
    "# 3. Identify students who have consistently performed well (average score > 85)\n",
    "\n",
    "# 4. Identify students who may need additional support (average score < 60)\n",
    "\n"
   ]
  }
 ],
 "metadata": {
  "colab": {
   "provenance": []
  },
  "kernelspec": {
   "display_name": "Python 3 (ipykernel)",
   "language": "python",
   "name": "python3"
  },
  "language_info": {
   "codemirror_mode": {
    "name": "ipython",
    "version": 3
   },
   "file_extension": ".py",
   "mimetype": "text/x-python",
   "name": "python",
   "nbconvert_exporter": "python",
   "pygments_lexer": "ipython3",
   "version": "3.12.4"
  }
 },
 "nbformat": 4,
 "nbformat_minor": 4
}
