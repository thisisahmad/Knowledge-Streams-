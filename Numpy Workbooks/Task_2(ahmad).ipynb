{
  "nbformat": 4,
  "nbformat_minor": 0,
  "metadata": {
    "colab": {
      "provenance": []
    },
    "kernelspec": {
      "name": "python3",
      "display_name": "Python 3"
    },
    "language_info": {
      "name": "python"
    }
  },
  "cells": [
    {
      "cell_type": "markdown",
      "source": [
        "# Numpy Basics Exercises\n",
        "\n",
        "Please complete the following exercises **using numpy only**."
      ],
      "metadata": {
        "id": "YmwKgUrAkbfG"
      }
    },
    {
      "cell_type": "markdown",
      "source": [
        "# Array Broadcasting\n",
        "NumPy arrays of different dimensionality can be combined in the same expression. Arrays with smaller dimension are broadcasted to match the larger arrays, without copying data.\n",
        "\n",
        "Broadcasting has two rules.\n",
        "\n",
        "RULE 1: PREPEND ONES TO SMALLER ARRAY'S SHAPE\n",
        "\n",
        "RULE 2: DIMENSIONS OF SIZE 1 ARE REPEATED WITHOUT COPYING"
      ],
      "metadata": {
        "id": "oWtZzrvXjxVl"
      }
    },
    {
      "cell_type": "markdown",
      "source": [
        "**Rule 1:**"
      ],
      "metadata": {
        "id": "w8k2sBEGebaj"
      }
    },
    {
      "cell_type": "code",
      "source": [
        "#Rule 1\n",
        "import numpy as np\n",
        "a=np.ones((3,5))\n",
        "b=np.ones((5,))\n",
        "b.reshape(1,5)\n",
        "b[np.newaxis, :]\n",
        "#Rule 2\n",
        "c=a+b\n",
        "tmp_b = b.reshape(1, 5)\n",
        "tmp_b_repeat = tmp_b.repeat(3, axis=0)\n",
        "c = a + tmp_b_repeat\n",
        "c\n"
      ],
      "metadata": {
        "id": "7vrTvmEWjwtY",
        "colab": {
          "base_uri": "https://localhost:8080/"
        },
        "outputId": "f0581cda-549f-417d-e12a-77143400ee29"
      },
      "execution_count": null,
      "outputs": [
        {
          "output_type": "execute_result",
          "data": {
            "text/plain": [
              "array([[2., 2., 2., 2., 2.],\n",
              "       [2., 2., 2., 2., 2.],\n",
              "       [2., 2., 2., 2., 2.]])"
            ]
          },
          "metadata": {},
          "execution_count": 18
        }
      ]
    },
    {
      "cell_type": "markdown",
      "source": [
        "**Rule 2:**"
      ],
      "metadata": {
        "id": "G1wPjm49egfi"
      }
    },
    {
      "cell_type": "markdown",
      "source": [
        "1.Use reduce() operation on an array to reduec it into a single meaningful value. You. can also use a specific axis to apply reduce operation.\n",
        "\n",
        "2.accumulate() creates a new array containing the intermediate results of the reduce operation at each element in a.\n"
      ],
      "metadata": {
        "id": "Qp9UkMByj5Il"
      }
    },
    {
      "cell_type": "code",
      "source": [
        "#1.Use reduce() operation on an array to reduec it into a single meaningful value. You. can also use a specific axis to apply reduce operation.\n",
        "import numpy as np\n",
        "\n",
        "arr = np.array([[1, 2, 3],\n",
        "                [4, 5, 6]])\n",
        "total_sum = np.add.reduce(arr)\n",
        "print(total_sum)\n",
        "\n",
        "#2.accumulate() creates a new array containing the intermediate results of the reduce operation at each element in a.\n",
        "import numpy as np\n",
        "\n",
        "arr = np.array([[1, 2, 3],\n",
        "                [4, 5, 6]])\n",
        "total_sum = np.add.accumulate(arr)\n",
        "print(total_sum)"
      ],
      "metadata": {
        "id": "nmLsvmTZj626",
        "colab": {
          "base_uri": "https://localhost:8080/"
        },
        "outputId": "b22dff87-4f1f-4302-b888-2ff5baa38b3e"
      },
      "execution_count": null,
      "outputs": [
        {
          "output_type": "stream",
          "name": "stdout",
          "text": [
            "[5 7 9]\n",
            "[[1 2 3]\n",
            " [5 7 9]]\n"
          ]
        }
      ]
    },
    {
      "cell_type": "markdown",
      "source": [
        "### Create a 2-D array where the first row goes from 10 to 80 exclusive with steps of 5 and 2nd row goes from 5 to 47 exclusive with steps of 3"
      ],
      "metadata": {
        "id": "Oork_pTdXsin"
      }
    },
    {
      "cell_type": "code",
      "source": [
        "#Create a 2-D array where the first row goes from 10 to 80 exclusive with steps of 5 and 2nd row goes from 5 to 47 exclusive with steps of 3\n",
        "a=np.arange(10,80,5)\n",
        "b=np.arange(5,47,3)\n",
        "c=np.vstack([a,b])\n",
        "c"
      ],
      "metadata": {
        "id": "JJs0sRQ7YKgF",
        "colab": {
          "base_uri": "https://localhost:8080/"
        },
        "outputId": "26a030b0-dcb9-4475-fd39-08e4480e4f3f"
      },
      "execution_count": null,
      "outputs": [
        {
          "output_type": "execute_result",
          "data": {
            "text/plain": [
              "array([[10, 15, 20, 25, 30, 35, 40, 45, 50, 55, 60, 65, 70, 75],\n",
              "       [ 5,  8, 11, 14, 17, 20, 23, 26, 29, 32, 35, 38, 41, 44]])"
            ]
          },
          "metadata": {},
          "execution_count": 32
        }
      ]
    },
    {
      "cell_type": "markdown",
      "source": [
        "### Now use indexing to select the 5th 7th and 11th columns"
      ],
      "metadata": {
        "id": "eBGU-aEqYM16"
      }
    },
    {
      "cell_type": "code",
      "source": [
        "#Now use indexing to select the 5th 7th and 11th columns\n",
        "c[:,[4,6,10]]"
      ],
      "metadata": {
        "id": "-xAT9OukYNKx",
        "colab": {
          "base_uri": "https://localhost:8080/"
        },
        "outputId": "c64e2a4e-a962-4138-d3c1-101f33fa9056"
      },
      "execution_count": null,
      "outputs": [
        {
          "output_type": "execute_result",
          "data": {
            "text/plain": [
              "array([[30, 40, 60],\n",
              "       [17, 23, 35]])"
            ]
          },
          "metadata": {},
          "execution_count": 33
        }
      ]
    },
    {
      "cell_type": "markdown",
      "source": [
        "### Select the 2nd row and fourth-last to second-last columns"
      ],
      "metadata": {
        "id": "wu3J-12UZl2I"
      }
    },
    {
      "cell_type": "code",
      "source": [
        "#Select the 2nd row and fourth-last to second-last columns\n",
        "c[1, -4: -1:]"
      ],
      "metadata": {
        "id": "YPAaA_BKZl-N",
        "colab": {
          "base_uri": "https://localhost:8080/"
        },
        "outputId": "4bfd8f5b-fa0b-4916-addb-86db8305a934"
      },
      "execution_count": null,
      "outputs": [
        {
          "output_type": "execute_result",
          "data": {
            "text/plain": [
              "array([35, 38, 41])"
            ]
          },
          "metadata": {},
          "execution_count": 36
        }
      ]
    },
    {
      "cell_type": "markdown",
      "source": [
        "### Select 3rd to 3rd last columns skipping every second column"
      ],
      "metadata": {
        "id": "kCgDP3J_ZmF8"
      }
    },
    {
      "cell_type": "code",
      "source": [
        "#Select 3rd to 3rd last columns skipping every second column\n",
        "a=np.arange(10,80,5)\n",
        "b=np.arange(5,47,3)\n",
        "c=np.vstack([a,b])\n",
        "c[:, 2:-2:2]\n"
      ],
      "metadata": {
        "id": "YqRY90S0ZmNW",
        "colab": {
          "base_uri": "https://localhost:8080/"
        },
        "outputId": "51f9200f-d0ee-4a90-de98-f6cd33d4a429"
      },
      "execution_count": 4,
      "outputs": [
        {
          "output_type": "execute_result",
          "data": {
            "text/plain": [
              "array([[20, 30, 40, 50, 60],\n",
              "       [11, 17, 23, 29, 35]])"
            ]
          },
          "metadata": {},
          "execution_count": 4
        }
      ]
    },
    {
      "cell_type": "markdown",
      "source": [
        "###  Select 3rd to 3rd last columns skipping every second column but in reverse order"
      ],
      "metadata": {
        "id": "x21_4u7SZmUx"
      }
    },
    {
      "cell_type": "code",
      "source": [
        "#Select 3rd to 3rd last columns skipping every second column but in reverse order\n",
        "c[:, 2:-2:2]\n"
      ],
      "metadata": {
        "id": "oEQws0mAZmcU"
      },
      "execution_count": 4,
      "outputs": []
    },
    {
      "cell_type": "markdown",
      "source": [
        "### We will work with the following array:"
      ],
      "metadata": {
        "id": "bqVyb4DKZmkR"
      }
    },
    {
      "cell_type": "code",
      "source": [
        "a = np.arange(25).reshape(5, 5)\n",
        "a"
      ],
      "metadata": {
        "colab": {
          "base_uri": "https://localhost:8080/"
        },
        "id": "Iz86eeTWZmsK",
        "outputId": "657f8c8d-0a3b-44b8-e0fe-6de9614c11c1"
      },
      "execution_count": null,
      "outputs": [
        {
          "output_type": "execute_result",
          "data": {
            "text/plain": [
              "array([[ 0,  1,  2,  3,  4],\n",
              "       [ 5,  6,  7,  8,  9],\n",
              "       [10, 11, 12, 13, 14],\n",
              "       [15, 16, 17, 18, 19],\n",
              "       [20, 21, 22, 23, 24]])"
            ]
          },
          "metadata": {},
          "execution_count": 4
        }
      ]
    },
    {
      "cell_type": "markdown",
      "source": [
        "### Use slicing only to select 3rd and last row along with 2nd and last columns"
      ],
      "metadata": {
        "id": "OdjK0hqobWGp"
      }
    },
    {
      "cell_type": "code",
      "source": [
        "#Use slicing only to select 3rd and last row along with 2nd and last columns\n",
        "import numpy as np\n",
        "a = np.arange(25).reshape(5, 5)\n",
        "b=a[[2, 4]]\n",
        "c=b[:, [1, 4]]\n",
        "c\n",
        "\n"
      ],
      "metadata": {
        "id": "-iw2ciaibUHU",
        "colab": {
          "base_uri": "https://localhost:8080/"
        },
        "outputId": "0dcf2441-6d8b-414a-cbe2-1840618bf4ad"
      },
      "execution_count": 12,
      "outputs": [
        {
          "output_type": "execute_result",
          "data": {
            "text/plain": [
              "array([[11, 14],\n",
              "       [21, 24]])"
            ]
          },
          "metadata": {},
          "execution_count": 12
        }
      ]
    },
    {
      "cell_type": "markdown",
      "source": [
        "### Extract the following sub-array: [[2, 3], [12, 13], [22, 23]]"
      ],
      "metadata": {
        "id": "5PtInLvEb7Am"
      }
    },
    {
      "cell_type": "code",
      "source": [
        "#Extract the following sub-array: [[2, 3], [12, 13], [22, 23]]\n",
        "a = np.arange(25).reshape(5, 5)\n",
        "a[1:4, 1:4]"
      ],
      "metadata": {
        "id": "lVi9eV2rb6hz",
        "colab": {
          "base_uri": "https://localhost:8080/"
        },
        "outputId": "22868c66-e730-474d-c2f0-167f1bdb92ca"
      },
      "execution_count": 14,
      "outputs": [
        {
          "output_type": "execute_result",
          "data": {
            "text/plain": [
              "array([[ 6,  7,  8],\n",
              "       [11, 12, 13],\n",
              "       [16, 17, 18]])"
            ]
          },
          "metadata": {},
          "execution_count": 14
        }
      ]
    },
    {
      "cell_type": "markdown",
      "source": [
        "### Combine fancy/location indexing with slicing to extract the following sub-array: [[6, 8], [16, 18], [21, 23]]"
      ],
      "metadata": {
        "id": "mHN-ADlNcRE7"
      }
    },
    {
      "cell_type": "code",
      "source": [
        "#Combine fancy/location indexing with slicing to extract the following sub-array: [[6, 8], [16, 18], [21, 23]]\n",
        "import numpy as np\n",
        "b = np.arange(25).reshape(5, 5)\n",
        "b[[1,3,4], 1:4:2]"
      ],
      "metadata": {
        "id": "e_R0tbMHcNGy",
        "colab": {
          "base_uri": "https://localhost:8080/"
        },
        "outputId": "137591bf-58f1-4917-aad8-251288a21782"
      },
      "execution_count": 25,
      "outputs": [
        {
          "output_type": "execute_result",
          "data": {
            "text/plain": [
              "array([[ 6,  8],\n",
              "       [16, 18],\n",
              "       [21, 23]])"
            ]
          },
          "metadata": {},
          "execution_count": 25
        }
      ]
    },
    {
      "cell_type": "markdown",
      "source": [
        "### Change the values 1, 10, 19 and 22 in the array to -2"
      ],
      "metadata": {
        "id": "gRle44JLc8oL"
      }
    },
    {
      "cell_type": "code",
      "source": [
        "a = np.arange(25).reshape(5, 5)\n",
        "a[[0,2,3,4],[1,0,4,2]]=-2\n",
        "a\n"
      ],
      "metadata": {
        "id": "MnIs-SBzdMPv",
        "colab": {
          "base_uri": "https://localhost:8080/"
        },
        "outputId": "5639c493-c0f0-4b16-b488-1d5fa45af224"
      },
      "execution_count": 38,
      "outputs": [
        {
          "output_type": "execute_result",
          "data": {
            "text/plain": [
              "array([[ 0, -2,  2,  3,  4],\n",
              "       [ 5,  6,  7,  8,  9],\n",
              "       [-2, 11, 12, 13, 14],\n",
              "       [15, 16, 17, 18, -2],\n",
              "       [20, 21, -2, 23, 24]])"
            ]
          },
          "metadata": {},
          "execution_count": 38
        }
      ]
    },
    {
      "cell_type": "markdown",
      "source": [
        "### Repeat above using boolean indexing"
      ],
      "metadata": {
        "id": "tWSQO5e3dZxf"
      }
    },
    {
      "cell_type": "code",
      "source": [
        "a = np.arange(25).reshape(5, 5)\n",
        "mask=a[[0,2,3,4],[1,0,4,2]]=-2\n",
        "a\n"
      ],
      "metadata": {
        "id": "zytB7nrMdYfT",
        "colab": {
          "base_uri": "https://localhost:8080/"
        },
        "outputId": "f99ccf9a-19a9-4698-def2-bb0dd20483cc"
      },
      "execution_count": 39,
      "outputs": [
        {
          "output_type": "execute_result",
          "data": {
            "text/plain": [
              "array([[ 0, -2,  2,  3,  4],\n",
              "       [ 5,  6,  7,  8,  9],\n",
              "       [-2, 11, 12, 13, 14],\n",
              "       [15, 16, 17, 18, -2],\n",
              "       [20, 21, -2, 23, 24]])"
            ]
          },
          "metadata": {},
          "execution_count": 39
        }
      ]
    },
    {
      "cell_type": "markdown",
      "source": [
        "### Combine slicing in the column dimension and boolean indexing in row dimension to extract the following sub-array: [[0, 3], [10, 13], [15, 18]]"
      ],
      "metadata": {
        "id": "2i_7lkqpdhtx"
      }
    },
    {
      "cell_type": "code",
      "source": [
        "#Combine slicing in the column dimension and boolean indexing in row dimension to extract the following sub-array: [[0, 3], [10, 13], [15, 18]]\n",
        "a = np.arange(25).reshape(5, 5)\n",
        "a\n"
      ],
      "metadata": {
        "id": "O8683ef2dYng",
        "colab": {
          "base_uri": "https://localhost:8080/"
        },
        "outputId": "271a8d8c-07ba-4075-b3b6-a16a907a4637"
      },
      "execution_count": 40,
      "outputs": [
        {
          "output_type": "execute_result",
          "data": {
            "text/plain": [
              "array([[ 0,  1,  2,  3,  4],\n",
              "       [ 5,  6,  7,  8,  9],\n",
              "       [10, 11, 12, 13, 14],\n",
              "       [15, 16, 17, 18, 19],\n",
              "       [20, 21, 22, 23, 24]])"
            ]
          },
          "metadata": {},
          "execution_count": 40
        }
      ]
    },
    {
      "cell_type": "markdown",
      "source": [
        "### Calculating the sum, min and max of all diagonal values"
      ],
      "metadata": {
        "id": "BLH29N-KLDEJ"
      }
    },
    {
      "cell_type": "code",
      "source": [
        "a = np.arange(25).reshape(5, 5)\n",
        "b=np.array([0,6,12,18,24])\n",
        "s=b.sum()\n",
        "s"
      ],
      "metadata": {
        "id": "ARzj6VP9LCPz",
        "colab": {
          "base_uri": "https://localhost:8080/"
        },
        "outputId": "986dc6d6-4f46-407d-aa92-56415d64247f"
      },
      "execution_count": 41,
      "outputs": [
        {
          "output_type": "execute_result",
          "data": {
            "text/plain": [
              "60"
            ]
          },
          "metadata": {},
          "execution_count": 41
        }
      ]
    },
    {
      "cell_type": "code",
      "source": [
        "min=b.min()\n",
        "min"
      ],
      "metadata": {
        "colab": {
          "base_uri": "https://localhost:8080/"
        },
        "id": "2PPMHmzI01d9",
        "outputId": "c0810c57-9d01-47db-f4a5-f80025e32b39"
      },
      "execution_count": 42,
      "outputs": [
        {
          "output_type": "execute_result",
          "data": {
            "text/plain": [
              "0"
            ]
          },
          "metadata": {},
          "execution_count": 42
        }
      ]
    },
    {
      "cell_type": "code",
      "source": [
        "max=b.max()\n",
        "max"
      ],
      "metadata": {
        "colab": {
          "base_uri": "https://localhost:8080/"
        },
        "id": "okV0d0wQ08vx",
        "outputId": "062e9855-3280-41bd-cad0-dc1a3fbe9771"
      },
      "execution_count": 43,
      "outputs": [
        {
          "output_type": "execute_result",
          "data": {
            "text/plain": [
              "24"
            ]
          },
          "metadata": {},
          "execution_count": 43
        }
      ]
    },
    {
      "cell_type": "markdown",
      "source": [
        "### Calculate the sum of differences between the 2nd row and 2nd last column"
      ],
      "metadata": {
        "id": "IIL3aHfpMQpr"
      }
    },
    {
      "cell_type": "code",
      "source": [
        "#calculate the sum of differences between the 2nd row and 2nd last column\n",
        "a = np.arange(25).reshape(5, 5)\n",
        "a"
      ],
      "metadata": {
        "id": "mNyxI8d0Mcvz",
        "colab": {
          "base_uri": "https://localhost:8080/"
        },
        "outputId": "54aa8149-0f4f-48b2-82c0-0012574858b7"
      },
      "execution_count": 49,
      "outputs": [
        {
          "output_type": "execute_result",
          "data": {
            "text/plain": [
              "array([[ 0,  1,  2,  3,  4],\n",
              "       [ 5,  6,  7,  8,  9],\n",
              "       [10, 11, 12, 13, 14],\n",
              "       [15, 16, 17, 18, 19],\n",
              "       [20, 21, 22, 23, 24]])"
            ]
          },
          "metadata": {},
          "execution_count": 49
        }
      ]
    },
    {
      "cell_type": "code",
      "source": [
        "row=a[1,:]\n",
        "row\n"
      ],
      "metadata": {
        "colab": {
          "base_uri": "https://localhost:8080/"
        },
        "id": "ESq0D7y21gic",
        "outputId": "c0c27197-1cdc-4c83-8856-6357f0806b43"
      },
      "execution_count": 63,
      "outputs": [
        {
          "output_type": "execute_result",
          "data": {
            "text/plain": [
              "array([5, 6, 7, 8, 9])"
            ]
          },
          "metadata": {},
          "execution_count": 63
        }
      ]
    },
    {
      "cell_type": "code",
      "source": [
        "col=a[:,4]\n",
        "col"
      ],
      "metadata": {
        "colab": {
          "base_uri": "https://localhost:8080/"
        },
        "id": "DJpzgh6u2ojO",
        "outputId": "4f1ea651-a4ca-4976-b6fe-fa2adee02eb7"
      },
      "execution_count": 64,
      "outputs": [
        {
          "output_type": "execute_result",
          "data": {
            "text/plain": [
              "array([ 4,  9, 14, 19, 24])"
            ]
          },
          "metadata": {},
          "execution_count": 64
        }
      ]
    },
    {
      "cell_type": "code",
      "source": [
        "diff=row-col\n",
        "diff"
      ],
      "metadata": {
        "colab": {
          "base_uri": "https://localhost:8080/"
        },
        "id": "-W4pLAs_3M7f",
        "outputId": "33209cee-8997-4aa0-db22-d41d42a5b323"
      },
      "execution_count": 66,
      "outputs": [
        {
          "output_type": "execute_result",
          "data": {
            "text/plain": [
              "array([  1,  -3,  -7, -11, -15])"
            ]
          },
          "metadata": {},
          "execution_count": 66
        }
      ]
    },
    {
      "cell_type": "code",
      "source": [
        "sum=np.sum(diff)\n",
        "sum"
      ],
      "metadata": {
        "colab": {
          "base_uri": "https://localhost:8080/"
        },
        "id": "oo5tsxyk3TeA",
        "outputId": "7fe1e39c-9b1f-4555-ee7b-656c1307c57f"
      },
      "execution_count": 67,
      "outputs": [
        {
          "output_type": "execute_result",
          "data": {
            "text/plain": [
              "-35"
            ]
          },
          "metadata": {},
          "execution_count": 67
        }
      ]
    },
    {
      "cell_type": "markdown",
      "source": [
        "### Create a new array that is the sum of even rows and odd rows"
      ],
      "metadata": {
        "id": "jEo7E6YNNIU5"
      }
    },
    {
      "cell_type": "code",
      "source": [
        "#Create a new array that is the sum of even rows and odd rows\n",
        "a = np.arange(25).reshape(5, 5)\n",
        "a\n"
      ],
      "metadata": {
        "id": "UEwbxwAPNikT",
        "colab": {
          "base_uri": "https://localhost:8080/"
        },
        "outputId": "c609f166-7821-4f33-da61-b78bd6c05f61"
      },
      "execution_count": 68,
      "outputs": [
        {
          "output_type": "execute_result",
          "data": {
            "text/plain": [
              "array([[ 0,  1,  2,  3,  4],\n",
              "       [ 5,  6,  7,  8,  9],\n",
              "       [10, 11, 12, 13, 14],\n",
              "       [15, 16, 17, 18, 19],\n",
              "       [20, 21, 22, 23, 24]])"
            ]
          },
          "metadata": {},
          "execution_count": 68
        }
      ]
    },
    {
      "cell_type": "code",
      "source": [
        "b=a[::2, :]\n",
        "b"
      ],
      "metadata": {
        "colab": {
          "base_uri": "https://localhost:8080/"
        },
        "id": "KyjG_vUT34AX",
        "outputId": "d3419bea-0ad1-474b-b324-c0821b370560"
      },
      "execution_count": 70,
      "outputs": [
        {
          "output_type": "execute_result",
          "data": {
            "text/plain": [
              "array([[ 0,  1,  2,  3,  4],\n",
              "       [10, 11, 12, 13, 14],\n",
              "       [20, 21, 22, 23, 24]])"
            ]
          },
          "metadata": {},
          "execution_count": 70
        }
      ]
    },
    {
      "cell_type": "code",
      "source": [
        "c=a[1::2, :]\n",
        "c"
      ],
      "metadata": {
        "colab": {
          "base_uri": "https://localhost:8080/"
        },
        "id": "I_WUGw-A48zo",
        "outputId": "8ab0ec29-dcb8-499a-d944-9cb099b7edf1"
      },
      "execution_count": 71,
      "outputs": [
        {
          "output_type": "execute_result",
          "data": {
            "text/plain": [
              "array([[ 5,  6,  7,  8,  9],\n",
              "       [15, 16, 17, 18, 19]])"
            ]
          },
          "metadata": {},
          "execution_count": 71
        }
      ]
    },
    {
      "cell_type": "code",
      "source": [
        "if b.shape[0] > c.shape[0]:\n",
        "    b = b[:c.shape[0], :]\n",
        "    sum=b+c\n",
        "    sum\n",
        "print(sum)\n"
      ],
      "metadata": {
        "colab": {
          "base_uri": "https://localhost:8080/"
        },
        "id": "lfFnwaXf5h95",
        "outputId": "a3faeb11-8ba4-4789-cb6e-627518a9c4cc"
      },
      "execution_count": 77,
      "outputs": [
        {
          "output_type": "stream",
          "name": "stdout",
          "text": [
            "[[ 5  7  9 11 13]\n",
            " [25 27 29 31 33]]\n"
          ]
        }
      ]
    },
    {
      "cell_type": "markdown",
      "source": [
        "## You are done. Good job!"
      ],
      "metadata": {
        "id": "TaKXFf_5d67q"
      }
    },
    {
      "cell_type": "code",
      "source": [],
      "metadata": {
        "id": "PwdTR28zd6Ji"
      },
      "execution_count": null,
      "outputs": []
    }
  ]
}